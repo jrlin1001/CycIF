{
 "cells": [
  {
   "cell_type": "markdown",
   "metadata": {},
   "source": [
    "# Introduction\n",
    "\n",
    "In the 16-cycle experiment, three kinds of plots were used to compare cycles: paired histograms, density scatter plots, and four-histogram plots. Below we provide code for generating these plots for all possibly relevant comparisons in the data for convenience. For sake of speed, each dataset only includes 10000 randomly sampled points of the original dataset.\n",
    "\n",
    "To begin, please run the next block of code by selecting it, and pressing \"Shift+Enter\" to load the data and prerequisite functions."
   ]
  },
  {
   "cell_type": "code",
   "execution_count": 2,
   "metadata": {
    "collapsed": true
   },
   "outputs": [],
   "source": [
    "import numpy as np\n",
    "import matplotlib.mlab as mlab\n",
    "import matplotlib.pyplot as plt\n",
    "from scipy.stats import gaussian_kde\n",
    "from scipy.stats.stats import pearsonr as rho\n",
    "\n",
    "from ipywidgets import interact, interactive, fixed, interact_manual\n",
    "import ipywidgets as widgets\n",
    "from IPython.display import display\n",
    "\n",
    "import pandas as pd\n",
    "from math import log\n",
    "\n",
    "df1 = pd.read_csv('T_sampleA.csv')\n",
    "df2 = pd.read_csv('T_sampleB.csv')\n",
    "df3 = pd.read_csv('M_sampleA.csv')\n",
    "df4 = pd.read_csv('M_sampleB.csv')\n",
    "df5 = pd.read_csv('N_sampleA.csv')\n",
    "df6 = pd.read_csv('N_sampleB.csv')\n",
    "\n",
    "text_file = open(\"labels.txt\", \"r\")\n",
    "labels = text_file.read().split('\\t')\n",
    "text_file.close()\n",
    "\n",
    "alldata = [df1,df2,df3,df4,df5,df6]\n",
    "datadict = {'TonsilA':0,'TonsilB':1,'MA':2,'MB':3,'NA':4,'NB':5}\n",
    "cycldict = dict(zip(labels,range(0,64)))\n",
    "channeldict = {'Hoechst':0,'PCNA':1,'Vimentin':2,'Tubulin':3}\n",
    "\n",
    "def overlaparea(kde1,kde2,trapzpts):\n",
    "    z1vals = kde1.evaluate(trapzpts)\n",
    "    z2vals = kde2.evaluate(trapzpts)\n",
    "    minvals = np.minimum(z1vals,z2vals)\n",
    "    #plt.plot(trapzpts,minvals,label='Overlap')\n",
    "    a = trapzpts[0]\n",
    "    c = trapzpts[len(trapzpts)-1]\n",
    "    dx = (c-a)/(len(trapzpts)-1)\n",
    "    integ = (sum(minvals)-minvals[0]/2-minvals[len(trapzpts)-1]/2)*dx\n",
    "    return(integ)\n",
    "\n",
    "def histocompare(Marker_A,Marker_B,dataset1,dataset2):\n",
    "    df1 = alldata[dataset1]\n",
    "    df2 = alldata[dataset2]\n",
    "    colA = df1.iloc[:,Marker_A];\n",
    "    colB = df2.iloc[:,Marker_B];\n",
    "\n",
    "    x = [log(y) for y in colA];\n",
    "    y = [log(y) for y in colB];\n",
    "\n",
    "    z1 = gaussian_kde(x)\n",
    "    z2 = gaussian_kde(y)\n",
    "    binchoice = np.linspace(min(x+y),max(x+y),100)\n",
    "    \n",
    "    plt.plot(binchoice,z1.evaluate(binchoice),label=labels[Marker_A])\n",
    "    plt.plot(binchoice,z2.evaluate(binchoice),label=labels[Marker_B])\n",
    "    plt.xlabel('Log-Intensity')\n",
    "    plt.ylabel('Estimated PDF')\n",
    "    plt.title('Overlap='+\"{:.2f}\".format(overlaparea(z1,z2,binchoice)))\n",
    "    plt.legend()\n",
    "    plt.show()\n",
    "\n",
    "def dscatter(Marker_A,Marker_B,dataset):\n",
    "    if Marker_A==Marker_B:\n",
    "       print('Please Select Differing Markers (changes take a minute)')\n",
    "        \n",
    "    else:\n",
    "        df = alldata[dataset]\n",
    "        colA = df.iloc[:,Marker_A];\n",
    "        colB = df.iloc[:,Marker_B];\n",
    "    \n",
    "        x = [log(y) for y in colA];\n",
    "        y = [log(y) for y in colB];\n",
    "        xy = np.vstack([x,y])\n",
    "        z= gaussian_kde(xy)(xy)\n",
    "    \n",
    "        rhoval = rho(x,y)\n",
    "        LineFit = np.polyfit(x, y, 1)\n",
    "\n",
    "        \n",
    "        plt.scatter(x,y,c=z,s=10,edgecolor='')\n",
    "        plt.title('Correlation='+\"{:.2f}\".format(rhoval[0])+', Slope='+\"{:.2f}\".format(LineFit[0]))\n",
    "        plt.xlabel(labels[Marker_A]+' Log-Intensity')\n",
    "        plt.ylabel(labels[Marker_B]+' Log-Intensity')\n",
    "        plt.show()\n",
    "\n",
    "def fourcycle(dataset,channel):\n",
    "    df = alldata[dataset]\n",
    "    col3 = df.iloc[:,3+16*channel-1]\n",
    "    col7 = df.iloc[:,7+16*channel-1];\n",
    "    col12 = df.iloc[:,12+16*channel-1]\n",
    "    col16 = df.iloc[:,16+16*channel-1];\n",
    "    \n",
    "    x3 = [log(y) for y in col3];\n",
    "    x7 = [log(y) for y in col7];\n",
    "    x12 = [log(y) for y in col12];\n",
    "    x16 = [log(y) for y in col16];\n",
    "\n",
    "    z3 = gaussian_kde(x3)\n",
    "    z7 = gaussian_kde(x7)\n",
    "    z12 = gaussian_kde(x12)\n",
    "    z16 = gaussian_kde(x16)\n",
    "    binchoice = np.linspace(min(x3+x7+x12+x16),max(x3+x7+x12+x16),100)\n",
    "    \n",
    "    plt.plot(binchoice,z3.evaluate(binchoice),label='Cycle3')\n",
    "    plt.plot(binchoice,z7.evaluate(binchoice),label='Cycle7')\n",
    "    plt.plot(binchoice,z12.evaluate(binchoice),label='Cycle12')\n",
    "    plt.plot(binchoice,z16.evaluate(binchoice),label='Cycle16')\n",
    "    plt.xlabel('Log-Intensity')\n",
    "    plt.ylabel('Estimated PDF')\n",
    "    plt.legend()\n",
    "    plt.show()"
   ]
  },
  {
   "cell_type": "markdown",
   "metadata": {},
   "source": [
    "You may run the code for any of the three types of plots you like below:"
   ]
  },
  {
   "cell_type": "markdown",
   "metadata": {},
   "source": [
    "# Histogram Comparison of Two Channels\n",
    "\n",
    "The code below allows you to choose one channel from one dataset, and another channel from another dataset. The overlapping area is also computed."
   ]
  },
  {
   "cell_type": "code",
   "execution_count": 3,
   "metadata": {},
   "outputs": [
    {
     "data": {
      "application/vnd.jupyter.widget-view+json": {
       "model_id": "acff8fc773354b6194f5938fdfb01cbc"
      }
     },
     "metadata": {},
     "output_type": "display_data"
    }
   ],
   "source": [
    "thing1 = interactive(histocompare,Marker_A=cycldict,Marker_B=cycldict,dataset1=datadict,dataset2=datadict)\n",
    "display(thing1)\n"
   ]
  },
  {
   "cell_type": "markdown",
   "metadata": {},
   "source": [
    "# Density Scatter Plot of Two Markers from Same Dataset\n",
    "\n",
    "When the dataset is the same, we can make a scatter plot for any of the two channels. Here we also compute the Pearson correlation, denoted by \"rho\", and the slope of the line-of-best-fit. (The density calculation takes a little more time, so give a minute for changes to implement)"
   ]
  },
  {
   "cell_type": "code",
   "execution_count": 4,
   "metadata": {},
   "outputs": [
    {
     "data": {
      "application/vnd.jupyter.widget-view+json": {
       "model_id": "64df0382b38e497b9c474d6076ac78a8"
      }
     },
     "metadata": {},
     "output_type": "display_data"
    }
   ],
   "source": [
    "thing2 = interactive(dscatter,Marker_A=cycldict,Marker_B=cycldict,dataset=datadict)\n",
    "display(thing2)"
   ]
  },
  {
   "cell_type": "markdown",
   "metadata": {},
   "source": [
    "# Four Histogram Plot\n",
    "\n",
    "For a handful of markers, we reused the antibodies at multiple different cycles in the same sample."
   ]
  },
  {
   "cell_type": "code",
   "execution_count": 5,
   "metadata": {},
   "outputs": [
    {
     "data": {
      "application/vnd.jupyter.widget-view+json": {
       "model_id": "547cc96a3e0b453997c17f600faa801a"
      }
     },
     "metadata": {},
     "output_type": "display_data"
    }
   ],
   "source": [
    "thing3 = interactive(fourcycle,dataset=datadict,channel=channeldict)\n",
    "display(thing3)"
   ]
  }
 ],
 "metadata": {
  "kernelspec": {
   "display_name": "Python 3",
   "language": "python",
   "name": "python3"
  },
  "language_info": {
   "codemirror_mode": {
    "name": "ipython",
    "version": 3
   },
   "file_extension": ".py",
   "mimetype": "text/x-python",
   "name": "python",
   "nbconvert_exporter": "python",
   "pygments_lexer": "ipython3",
   "version": "3.6.1"
  }
 },
 "nbformat": 4,
 "nbformat_minor": 2
}
